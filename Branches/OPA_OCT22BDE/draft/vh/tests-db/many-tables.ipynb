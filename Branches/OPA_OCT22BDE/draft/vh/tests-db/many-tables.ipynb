{
 "cells": [
  {
   "cell_type": "markdown",
   "metadata": {},
   "source": [
    "# Récupération d'un jeu de données de binance"
   ]
  },
  {
   "cell_type": "code",
   "execution_count": 1,
   "metadata": {},
   "outputs": [],
   "source": [
    "import requests\n",
    "from datetime import datetime, date, timedelta\n",
    "\n",
    "timestamp = int(datetime.strptime(\"2022-11-14T00:00:00\", \"%Y-%m-%dT%H:%M:%S\").strftime(\"%s\"))*1000\n",
    "\n",
    "data = {\"symbol\": \"BTCEUR\", \"interval\": \"1s\", \"startTime\":timestamp, \"limit\": 675}\n",
    "url = 'https://api.binance.com/api/v3/klines'\n",
    "binance_response = requests.get(url, params=data)\n"
   ]
  },
  {
   "cell_type": "markdown",
   "metadata": {},
   "source": [
    "# Préparation d'un dataframe avec 86 400 lignes en vue d'écritures des tables"
   ]
  },
  {
   "cell_type": "code",
   "execution_count": 2,
   "metadata": {},
   "outputs": [
    {
     "data": {
      "text/plain": [
       "((86400, 6),\n",
       " timestamp      int64\n",
       " open         float64\n",
       " close        float64\n",
       " high         float64\n",
       " low          float64\n",
       " quantity     float64\n",
       " dtype: object,\n",
       " 1668294675.0,\n",
       " 1668381074.0)"
      ]
     },
     "execution_count": 2,
     "metadata": {},
     "output_type": "execute_result"
    }
   ],
   "source": [
    "import pandas as pd\n",
    "\n",
    "df = pd.DataFrame(binance_response.json())\n",
    "columns = ['timestamp', 'open', 'close', 'high', 'low', 'quantity']\n",
    "df = df.drop(list(range(6,df.shape[1])), axis=1) \\\n",
    "    .astype(\"float\") \\\n",
    "    .rename(columns={i: c for i, c in enumerate(columns)})\n",
    "\n",
    "df[\"timestamp\"] = df[\"timestamp\"].floordiv(1000).astype(\"int\")\n",
    "\n",
    "for _ in range(0,7):\n",
    "    df2 = df.copy()\n",
    "    df2[\"timestamp\"] = df2[\"timestamp\"].add(df.iloc[0][\"timestamp\"]-df.iloc[-1][\"timestamp\"]-1).astype(\"int\")\n",
    "    df = pd.concat([df2, df])\n"
   ]
  },
  {
   "cell_type": "markdown",
   "metadata": {},
   "source": [
    "# Création de la base SQLite avec SQLAlchemy"
   ]
  },
  {
   "cell_type": "code",
   "execution_count": 3,
   "metadata": {},
   "outputs": [],
   "source": [
    "import sqlite3, sqlalchemy\n",
    "from sqlalchemy import Table, Column, Integer, Float, MetaData, create_engine\n",
    "\n",
    "engine = create_engine('sqlite:///many-tables.db', echo=False)\n",
    "meta = MetaData()\n"
   ]
  },
  {
   "cell_type": "markdown",
   "metadata": {},
   "source": [
    "# Création des 1000 tables et insertion des données"
   ]
  },
  {
   "cell_type": "code",
   "execution_count": 4,
   "metadata": {},
   "outputs": [],
   "source": [
    "from datetime import datetime, date\n",
    "\n",
    "df_sql = df.copy()\n",
    "for _ in range(0,1000):\n",
    "    day = date.fromtimestamp(df_sql.iloc[0][\"timestamp\"]).strftime(\"%Y_%m_%d\")\n",
    "    table_name = f\"SYMBOL_{day}\"\n",
    "    engine.execute(f\"DROP TABLE IF EXISTS {table_name}\")\n",
    "    symbol = Table(f\"{table_name}\", meta,\n",
    "                    Column('timestamp', Integer, nullable=False),\n",
    "                    Column('open', Float, nullable=False),\n",
    "                    Column('close', Float, nullable=False),\n",
    "                    Column('high', Float, nullable=False),\n",
    "                    Column('low', Float, nullable=False),\n",
    "                    Column('quantity', Float, nullable=False),\n",
    "                    extend_existing=True\n",
    "                )\n",
    "    meta.create_all(engine)\n",
    "\n",
    "    df_sql.to_sql(f\"{table_name}\",con = engine, index=False, if_exists='append')\n",
    "    df_sql[\"timestamp\"] = df_sql[\"timestamp\"].add(df_sql.iloc[0][\"timestamp\"]-df_sql.iloc[-1][\"timestamp\"]-1).astype(\"int\")\n",
    "\n"
   ]
  },
  {
   "cell_type": "markdown",
   "metadata": {},
   "source": [
    "# Exemple de requête"
   ]
  },
  {
   "cell_type": "code",
   "execution_count": 5,
   "metadata": {},
   "outputs": [
    {
     "data": {
      "text/plain": [
       "1000"
      ]
     },
     "execution_count": 5,
     "metadata": {},
     "output_type": "execute_result"
    }
   ],
   "source": [
    "start = datetime.now().replace(hour=12)-timedelta(days = 200)\n",
    "end = start + timedelta(seconds = 1000)\n",
    "\n",
    "start = int(start.strftime(\"%s\"))\n",
    "end = int(end.strftime(\"%s\"))\n",
    "\n",
    "day = date.fromtimestamp(start).strftime(\"%Y_%m_%d\")\n",
    "\n",
    "conn = engine.connect()\n",
    "cursor = conn.execute(f\"SELECT * FROM SYMBOL_{day} WHERE timestamp >= {start:.0f} AND timestamp < {end:.0f}\")\n",
    "\n",
    "result = list(cursor)\n",
    "len(result)\n"
   ]
  }
 ],
 "metadata": {
  "kernelspec": {
   "display_name": "Python 3.10.8 64-bit",
   "language": "python",
   "name": "python3"
  },
  "language_info": {
   "codemirror_mode": {
    "name": "ipython",
    "version": 3
   },
   "file_extension": ".py",
   "mimetype": "text/x-python",
   "name": "python",
   "nbconvert_exporter": "python",
   "pygments_lexer": "ipython3",
   "version": "3.10.8"
  },
  "orig_nbformat": 4,
  "vscode": {
   "interpreter": {
    "hash": "aee8b7b246df8f9039afb4144a1f6fd8d2ca17a180786b69acc140d282b71a49"
   }
  }
 },
 "nbformat": 4,
 "nbformat_minor": 2
}
