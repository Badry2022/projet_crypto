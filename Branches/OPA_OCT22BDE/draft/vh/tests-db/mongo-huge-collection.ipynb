{
 "cells": [
  {
   "cell_type": "markdown",
   "metadata": {},
   "source": [
    "# Récupération d'un jeu de données de binance"
   ]
  },
  {
   "cell_type": "code",
   "execution_count": 1,
   "metadata": {},
   "outputs": [],
   "source": [
    "import requests\n",
    "\n",
    "symbol = \"BTCEUR\"\n",
    "interval = \"1s\"\n",
    "\n",
    "data = {\"symbol\": symbol, \"interval\": interval, \"limit\": 1000}\n",
    "url = 'https://api.binance.com/api/v3/klines'\n",
    "binance_response = requests.get(url, params=data)\n"
   ]
  },
  {
   "cell_type": "markdown",
   "metadata": {},
   "source": [
    "# Préparation d'un dataframe de 256 000 lignes en guise de batch "
   ]
  },
  {
   "cell_type": "code",
   "execution_count": 2,
   "metadata": {},
   "outputs": [],
   "source": [
    "import pandas as pd\n",
    "\n",
    "df = pd.DataFrame(binance_response.json())\n",
    "columns = ['timestamp', 'open', 'close', 'high', 'low', 'quantity']\n",
    "df = df.drop(list(range(6,df.shape[1])), axis=1) \\\n",
    "    .astype({i: \"int\" if i == 0 else \"float\" for i in range(0,6)}) \\\n",
    "    .rename(columns={i: c for i, c in enumerate(columns)})\n",
    "df[\"timestamp\"] = df[\"timestamp\"].floordiv(1000).astype(\"int\")\n",
    "df[\"symbol\"] = symbol\n",
    "df[\"interval\"] = interval\n",
    "\n",
    "for _ in range(0,8):\n",
    "    df2 = df.copy()\n",
    "    df2[\"timestamp\"] = df2[\"timestamp\"].add(df.iloc[0][\"timestamp\"]-df.iloc[-1][\"timestamp\"]-1).astype(\"int\")\n",
    "    df = pd.concat([df2, df])\n"
   ]
  },
  {
   "cell_type": "markdown",
   "metadata": {},
   "source": [
    "# Préparation de la base MongoDB en mode classique "
   ]
  },
  {
   "cell_type": "code",
   "execution_count": 4,
   "metadata": {},
   "outputs": [],
   "source": [
    "import pymongo\n",
    "from pymongo import MongoClient\n",
    "from datetime import datetime\n",
    "\n",
    "client = MongoClient('localhost', 27017)\n",
    "\n",
    "#Création de la base\n",
    "mydb = client[\"test-crypto-simple\"]\n",
    "\n",
    "try:\n",
    "    mydb.ticker.drop()\n",
    "finally:\n",
    "    pass\n",
    "\n",
    "ticker = mydb.create_collection(\n",
    "    \"ticker\"\n",
    ")\n"
   ]
  },
  {
   "cell_type": "markdown",
   "metadata": {},
   "source": [
    "# Insertion de 350 fois les 256 000 lignes"
   ]
  },
  {
   "cell_type": "code",
   "execution_count": 5,
   "metadata": {},
   "outputs": [
    {
     "name": "stdout",
     "output_type": "stream",
     "text": [
      "1 ...\n",
      "2 ...\n",
      "3 ...\n",
      "4 ...\n",
      "5 ...\n",
      "6 ...\n",
      "7 ...\n",
      "8 ...\n",
      "9 ...\n",
      "10 ...\n",
      "20 ...\n",
      "30 ...\n",
      "40 ...\n",
      "50 ...\n",
      "60 ...\n",
      "70 ...\n",
      "80 ...\n",
      "90 ...\n",
      "100 ...\n",
      "110 ...\n",
      "120 ...\n",
      "130 ...\n",
      "140 ...\n",
      "150 ...\n",
      "160 ...\n",
      "170 ...\n",
      "180 ...\n",
      "190 ...\n",
      "200 ...\n",
      "210 ...\n",
      "220 ...\n",
      "230 ...\n",
      "240 ...\n",
      "250 ...\n",
      "260 ...\n",
      "270 ...\n",
      "280 ...\n",
      "290 ...\n",
      "300 ...\n",
      "310 ...\n",
      "320 ...\n",
      "330 ...\n",
      "340 ...\n",
      "350 ...\n"
     ]
    }
   ],
   "source": [
    "df_sql = df.copy()\n",
    "i = 0\n",
    "for _ in range(0,350):\n",
    "    df_sql[\"_id\"] = df_sql[\"timestamp\"].astype(\"str\").str.replace(\"(\\\\d+)\", f\"{symbol}-{interval}-\\\\1\", regex=True)\n",
    "    batch = df_sql[[c for c in df_sql.columns if c != 'timestamp_tmp']].to_dict('records')\n",
    "    mydb.ticker.insert_many(batch)\n",
    "    df_sql[\"timestamp\"] = df_sql[\"timestamp\"].add(df_sql.iloc[0][\"timestamp\"]-df_sql.iloc[-1][\"timestamp\"]-1).astype(\"int\")\n",
    "    i += 1\n",
    "    if i < 10:\n",
    "        print(f\"{i:.0f} ...\")\n",
    "    elif i % 10 == 0:\n",
    "        print(f\"{i:.0f} ...\")\n"
   ]
  },
  {
   "cell_type": "markdown",
   "metadata": {},
   "source": [
    "# Exemple de requête"
   ]
  },
  {
   "cell_type": "code",
   "execution_count": 6,
   "metadata": {},
   "outputs": [
    {
     "data": {
      "text/plain": [
       "1000"
      ]
     },
     "execution_count": 6,
     "metadata": {},
     "output_type": "execute_result"
    }
   ],
   "source": [
    "from datetime import datetime, timedelta\n",
    "\n",
    "start = datetime.now()-timedelta(days = 200)\n",
    "end = start + timedelta(seconds = 1000)\n",
    "start = int(start.strftime(\"%s\"))\n",
    "end = int(end.strftime(\"%s\"))\n",
    "\n",
    "requete = mydb.ticker.aggregate([\n",
    "   {\"$match\": {\"timestamp\": {'$lt': end, '$gte': start}}}\n",
    "])\n",
    "len(list(requete))"
   ]
  }
 ],
 "metadata": {
  "kernelspec": {
   "display_name": "Python 3.10.8 64-bit",
   "language": "python",
   "name": "python3"
  },
  "language_info": {
   "codemirror_mode": {
    "name": "ipython",
    "version": 3
   },
   "file_extension": ".py",
   "mimetype": "text/x-python",
   "name": "python",
   "nbconvert_exporter": "python",
   "pygments_lexer": "ipython3",
   "version": "3.10.8"
  },
  "orig_nbformat": 4,
  "vscode": {
   "interpreter": {
    "hash": "aee8b7b246df8f9039afb4144a1f6fd8d2ca17a180786b69acc140d282b71a49"
   }
  }
 },
 "nbformat": 4,
 "nbformat_minor": 2
}
