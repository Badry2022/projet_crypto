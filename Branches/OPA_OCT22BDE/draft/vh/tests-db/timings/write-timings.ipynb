{
 "cells": [
  {
   "cell_type": "code",
   "execution_count": 97,
   "metadata": {},
   "outputs": [],
   "source": [
    "import sys\n",
    "\n",
    "for module_name in [\"producer\", \"sqlite\", \"mongo\"]:\n",
    "    try:\n",
    "        del sys.modules[module_name]\n",
    "    except:\n",
    "        pass\n"
   ]
  },
  {
   "cell_type": "code",
   "execution_count": 99,
   "metadata": {},
   "outputs": [
    {
     "data": {
      "text/html": [
       "<div>\n",
       "<style scoped>\n",
       "    .dataframe tbody tr th:only-of-type {\n",
       "        vertical-align: middle;\n",
       "    }\n",
       "\n",
       "    .dataframe tbody tr th {\n",
       "        vertical-align: top;\n",
       "    }\n",
       "\n",
       "    .dataframe thead tr th {\n",
       "        text-align: left;\n",
       "    }\n",
       "</style>\n",
       "<table border=\"1\" class=\"dataframe\">\n",
       "  <thead>\n",
       "    <tr>\n",
       "      <th>DB</th>\n",
       "      <th colspan=\"2\" halign=\"left\">SQLite via insert</th>\n",
       "      <th colspan=\"2\" halign=\"left\">SQLite via pandas.to_sql</th>\n",
       "      <th colspan=\"2\" halign=\"left\">Mongo standard</th>\n",
       "      <th colspan=\"2\" halign=\"left\">Mongo avec TimeSerie</th>\n",
       "    </tr>\n",
       "    <tr>\n",
       "      <th>size</th>\n",
       "      <th>0U</th>\n",
       "      <th>1M</th>\n",
       "      <th>0U</th>\n",
       "      <th>1M</th>\n",
       "      <th>0U</th>\n",
       "      <th>1M</th>\n",
       "      <th>0U</th>\n",
       "      <th>1M</th>\n",
       "    </tr>\n",
       "  </thead>\n",
       "  <tbody>\n",
       "    <tr>\n",
       "      <th>1</th>\n",
       "      <td>0.003682</td>\n",
       "      <td>0.001929</td>\n",
       "      <td>0.006845</td>\n",
       "      <td>0.009003</td>\n",
       "      <td>0.003399</td>\n",
       "      <td>0.002228</td>\n",
       "      <td>0.004123</td>\n",
       "      <td>0.003327</td>\n",
       "    </tr>\n",
       "    <tr>\n",
       "      <th>10</th>\n",
       "      <td>0.000260</td>\n",
       "      <td>0.000185</td>\n",
       "      <td>0.000683</td>\n",
       "      <td>0.002953</td>\n",
       "      <td>0.000335</td>\n",
       "      <td>0.000339</td>\n",
       "      <td>0.000304</td>\n",
       "      <td>0.000320</td>\n",
       "    </tr>\n",
       "    <tr>\n",
       "      <th>100</th>\n",
       "      <td>0.000028</td>\n",
       "      <td>0.000029</td>\n",
       "      <td>0.000071</td>\n",
       "      <td>0.000393</td>\n",
       "      <td>0.000067</td>\n",
       "      <td>0.000053</td>\n",
       "      <td>0.000121</td>\n",
       "      <td>0.000068</td>\n",
       "    </tr>\n",
       "    <tr>\n",
       "      <th>1000</th>\n",
       "      <td>0.000009</td>\n",
       "      <td>0.000010</td>\n",
       "      <td>0.000015</td>\n",
       "      <td>0.000113</td>\n",
       "      <td>0.000031</td>\n",
       "      <td>0.000057</td>\n",
       "      <td>0.000074</td>\n",
       "      <td>0.000055</td>\n",
       "    </tr>\n",
       "    <tr>\n",
       "      <th>10000</th>\n",
       "      <td>0.000026</td>\n",
       "      <td>0.000012</td>\n",
       "      <td>0.000019</td>\n",
       "      <td>0.000019</td>\n",
       "      <td>0.000073</td>\n",
       "      <td>0.000028</td>\n",
       "      <td>0.000054</td>\n",
       "      <td>0.000039</td>\n",
       "    </tr>\n",
       "    <tr>\n",
       "      <th>100000</th>\n",
       "      <td>0.000013</td>\n",
       "      <td>0.000012</td>\n",
       "      <td>0.000014</td>\n",
       "      <td>0.000012</td>\n",
       "      <td>0.000056</td>\n",
       "      <td>0.000030</td>\n",
       "      <td>0.000039</td>\n",
       "      <td>0.000041</td>\n",
       "    </tr>\n",
       "  </tbody>\n",
       "</table>\n",
       "</div>"
      ],
      "text/plain": [
       "DB     SQLite via insert           SQLite via pandas.to_sql            \\\n",
       "size                  0U        1M                       0U        1M   \n",
       "1               0.003682  0.001929                 0.006845  0.009003   \n",
       "10              0.000260  0.000185                 0.000683  0.002953   \n",
       "100             0.000028  0.000029                 0.000071  0.000393   \n",
       "1000            0.000009  0.000010                 0.000015  0.000113   \n",
       "10000           0.000026  0.000012                 0.000019  0.000019   \n",
       "100000          0.000013  0.000012                 0.000014  0.000012   \n",
       "\n",
       "DB     Mongo standard           Mongo avec TimeSerie            \n",
       "size               0U        1M                   0U        1M  \n",
       "1            0.003399  0.002228             0.004123  0.003327  \n",
       "10           0.000335  0.000339             0.000304  0.000320  \n",
       "100          0.000067  0.000053             0.000121  0.000068  \n",
       "1000         0.000031  0.000057             0.000074  0.000055  \n",
       "10000        0.000073  0.000028             0.000054  0.000039  \n",
       "100000       0.000056  0.000030             0.000039  0.000041  "
      ]
     },
     "execution_count": 99,
     "metadata": {},
     "output_type": "execute_result"
    }
   ],
   "source": [
    "import pandas as pd\n",
    "import producer\n",
    "from producer import binance_data, BatchMode\n",
    "from time import perf_counter\n",
    "from functools import reduce\n",
    "\n",
    "from sqlite import InsertSQLite, PandasSQLite\n",
    "from mongo import MongoBasic, MongoTimeSerie\n",
    "\n",
    "engines = (InsertSQLite(), PandasSQLite(), MongoBasic(), MongoTimeSerie())\n",
    "batch_modes = (BatchMode.DICT, BatchMode.DF, BatchMode.DICT, BatchMode.TIME_DICT)\n",
    "engine_names = (\"SQLite via insert\", \"SQLite via pandas.to_sql\", \"Mongo standard\", \"Mongo avec TimeSerie\")\n",
    "batches = [10 ** i for i in range(4)]\n",
    "avg_samples = 10\n",
    "\n",
    "def human_number(n):\n",
    "    def gen_units():\n",
    "        for unit in [\"U\", \"K\", \"M\", \"G\", \"T\", \"P\"]:\n",
    "            yield unit\n",
    "    \n",
    "    units = gen_units()\n",
    "    unit = next(units)\n",
    "    while round(n) >= 1000:\n",
    "        n /= 1000.0\n",
    "        try:\n",
    "            unit = next(units)\n",
    "        except StopIteration:\n",
    "            break\n",
    "    return str(round(n)) + unit\n",
    "\n",
    "stats = pd.DataFrame(index=batches)\n",
    "for (engine, batch_mode, engine_name) in zip(engines, batch_modes, engine_names):\n",
    "    db_size = 0\n",
    "    for _ in range(2):\n",
    "        avgs = []\n",
    "        mins = []\n",
    "        for nbatch in batches:\n",
    "            elapses = []\n",
    "            for i in range(avg_samples):\n",
    "                batch = binance_data(nbatch, mode=batch_mode)\n",
    "                start = perf_counter()\n",
    "                engine.write_batch(batch)\n",
    "                end = perf_counter()\n",
    "                elapses.append(end - start)\n",
    "            # print(f\"•••  up  ••• elapsed for batch of {nbatch} = {total / avg_samples / nbatch} per row\")\n",
    "            avgs.append(reduce(lambda x, y: x+y, elapses) / avg_samples / nbatch)\n",
    "            mins.append(min(elapses) / nbatch)\n",
    "        stats[engine_name, human_number(db_size), \"avg\"] = avgs\n",
    "        stats[engine_name, human_number(db_size), \"min\"] = mins\n",
    "        db_size += avg_samples * reduce(lambda x, y: x+y, batches)\n",
    "\n",
    "        # avgs = []\n",
    "        # for nbatch in batches:\n",
    "        #     total = 0\n",
    "        #     for i in range(avg_samples):\n",
    "        #         batch = binance_data(nbatch, mode=batch_mode)\n",
    "        #         start = perf_counter()\n",
    "        #         engine.write_batch(batch)\n",
    "        #         end = perf_counter()\n",
    "        #         total += end - start\n",
    "        #     # print(f\"••• down ••• elapsed for batch of {nbatch} = {total / avg_samples / nbatch} per row\")\n",
    "        #     avgs.append(total / avg_samples / nbatch)\n",
    "        # db_size = avg_samples * reduce(lambda x, y: x+y, batches)\n",
    "        # stats[engine_name, human_number(db_size)] = avgs\n",
    "\n",
    "stats.columns = pd.MultiIndex.from_tuples(stats.columns, names=[\"DB\", \"size\"])\n",
    "stats\n"
   ]
  },
  {
   "cell_type": "code",
   "execution_count": 96,
   "metadata": {},
   "outputs": [
    {
     "data": {
      "text/plain": [
       "[{'open': 15847.85,\n",
       "  'high': 15853.62,\n",
       "  'low': 15841.75,\n",
       "  'close': 15841.75,\n",
       "  'volume': 2.17907,\n",
       "  'timestamp': datetime.datetime(2000, 1, 1, 12, 20, 55),\n",
       "  'metadata': {'symbol': 'BTCEUR', 'interval': '1s'}},\n",
       " {'open': 15840.0,\n",
       "  'high': 15842.47,\n",
       "  'low': 15833.9,\n",
       "  'close': 15834.03,\n",
       "  'volume': 1.59663,\n",
       "  'timestamp': datetime.datetime(2000, 1, 1, 12, 20, 56),\n",
       "  'metadata': {'symbol': 'BTCEUR', 'interval': '1s'}},\n",
       " {'open': 15834.16,\n",
       "  'high': 15845.08,\n",
       "  'low': 15834.16,\n",
       "  'close': 15836.04,\n",
       "  'volume': 0.1585,\n",
       "  'timestamp': datetime.datetime(2000, 1, 1, 12, 20, 57),\n",
       "  'metadata': {'symbol': 'BTCEUR', 'interval': '1s'}},\n",
       " {'open': 15836.44,\n",
       "  'high': 15839.3,\n",
       "  'low': 15835.01,\n",
       "  'close': 15836.07,\n",
       "  'volume': 0.05736,\n",
       "  'timestamp': datetime.datetime(2000, 1, 1, 12, 20, 58),\n",
       "  'metadata': {'symbol': 'BTCEUR', 'interval': '1s'}},\n",
       " {'open': 15838.15,\n",
       "  'high': 15841.82,\n",
       "  'low': 15834.22,\n",
       "  'close': 15841.26,\n",
       "  'volume': 0.21867,\n",
       "  'timestamp': datetime.datetime(2000, 1, 1, 12, 20, 59),\n",
       "  'metadata': {'symbol': 'BTCEUR', 'interval': '1s'}}]"
      ]
     },
     "execution_count": 96,
     "metadata": {},
     "output_type": "execute_result"
    }
   ],
   "source": [
    "binance_data(5, mode=BatchMode.TIME_DICT)"
   ]
  },
  {
   "cell_type": "code",
   "execution_count": 28,
   "metadata": {},
   "outputs": [
    {
     "data": {
      "text/html": [
       "<div>\n",
       "<style scoped>\n",
       "    .dataframe tbody tr th:only-of-type {\n",
       "        vertical-align: middle;\n",
       "    }\n",
       "\n",
       "    .dataframe tbody tr th {\n",
       "        vertical-align: top;\n",
       "    }\n",
       "\n",
       "    .dataframe thead th {\n",
       "        text-align: right;\n",
       "    }\n",
       "</style>\n",
       "<table border=\"1\" class=\"dataframe\">\n",
       "  <thead>\n",
       "    <tr style=\"text-align: right;\">\n",
       "      <th></th>\n",
       "      <th>data</th>\n",
       "    </tr>\n",
       "  </thead>\n",
       "  <tbody>\n",
       "    <tr>\n",
       "      <th>1</th>\n",
       "      <td>0</td>\n",
       "    </tr>\n",
       "    <tr>\n",
       "      <th>10</th>\n",
       "      <td>1</td>\n",
       "    </tr>\n",
       "    <tr>\n",
       "      <th>100</th>\n",
       "      <td>8</td>\n",
       "    </tr>\n",
       "    <tr>\n",
       "      <th>1000</th>\n",
       "      <td>27</td>\n",
       "    </tr>\n",
       "    <tr>\n",
       "      <th>10000</th>\n",
       "      <td>64</td>\n",
       "    </tr>\n",
       "    <tr>\n",
       "      <th>10000</th>\n",
       "      <td>125</td>\n",
       "    </tr>\n",
       "    <tr>\n",
       "      <th>1000</th>\n",
       "      <td>216</td>\n",
       "    </tr>\n",
       "    <tr>\n",
       "      <th>100</th>\n",
       "      <td>343</td>\n",
       "    </tr>\n",
       "    <tr>\n",
       "      <th>10</th>\n",
       "      <td>512</td>\n",
       "    </tr>\n",
       "    <tr>\n",
       "      <th>1</th>\n",
       "      <td>729</td>\n",
       "    </tr>\n",
       "  </tbody>\n",
       "</table>\n",
       "</div>"
      ],
      "text/plain": [
       "       data\n",
       "1         0\n",
       "10        1\n",
       "100       8\n",
       "1000     27\n",
       "10000    64\n",
       "10000   125\n",
       "1000    216\n",
       "100     343\n",
       "10      512\n",
       "1       729"
      ]
     },
     "execution_count": 28,
     "metadata": {},
     "output_type": "execute_result"
    }
   ],
   "source": [
    "import pandas as pd\n",
    "\n",
    "batches = [10 ** i for i in range(5)]\n",
    "stats = pd.DataFrame(index=batches + list(reversed(batches)))\n",
    "\n",
    "stats[\"data\"] = [i ** 3 for i in range(2*len(batches))]\n",
    "stats\n"
   ]
  },
  {
   "cell_type": "code",
   "execution_count": 100,
   "metadata": {},
   "outputs": [
    {
     "data": {
      "text/plain": [
       "1"
      ]
     },
     "execution_count": 100,
     "metadata": {},
     "output_type": "execute_result"
    }
   ],
   "source": [
    "min(1, 2, 3, 7)"
   ]
  },
  {
   "cell_type": "code",
   "execution_count": 49,
   "metadata": {},
   "outputs": [
    {
     "data": {
      "text/plain": [
       "Index([('sql', '0'), ('sql', '11M')], dtype='object')"
      ]
     },
     "execution_count": 49,
     "metadata": {},
     "output_type": "execute_result"
    }
   ],
   "source": [
    "import pandas as pd\n",
    "\n",
    "batches = [10 ** i for i in range(5)]\n",
    "stats = pd.DataFrame(index=batches)\n",
    "\n",
    "# index = pd.MultiIndex.from_tuples([(\"sql\", \"0\")], names=[\"first\", \"second\"])\n",
    "stats[\"index\"] = [i ** 3 for i in range(len(batches))]\n",
    "# index = pd.MultiIndex.from_tuples([(\"sql\", \"11M\")], names=[\"first\", \"second\"])\n",
    "#stats[index] = [i ** 2 for i in range(len(batches))]\n",
    "stats\n"
   ]
  },
  {
   "cell_type": "code",
   "execution_count": 53,
   "metadata": {},
   "outputs": [
    {
     "data": {
      "text/html": [
       "<div>\n",
       "<style scoped>\n",
       "    .dataframe tbody tr th:only-of-type {\n",
       "        vertical-align: middle;\n",
       "    }\n",
       "\n",
       "    .dataframe tbody tr th {\n",
       "        vertical-align: top;\n",
       "    }\n",
       "\n",
       "    .dataframe thead tr th {\n",
       "        text-align: left;\n",
       "    }\n",
       "</style>\n",
       "<table border=\"1\" class=\"dataframe\">\n",
       "  <thead>\n",
       "    <tr>\n",
       "      <th>DB</th>\n",
       "      <th colspan=\"2\" halign=\"left\">sql</th>\n",
       "    </tr>\n",
       "    <tr>\n",
       "      <th>size</th>\n",
       "      <th>0</th>\n",
       "      <th>11M</th>\n",
       "    </tr>\n",
       "  </thead>\n",
       "  <tbody>\n",
       "    <tr>\n",
       "      <th>1</th>\n",
       "      <td>0</td>\n",
       "      <td>0</td>\n",
       "    </tr>\n",
       "    <tr>\n",
       "      <th>10</th>\n",
       "      <td>1</td>\n",
       "      <td>1</td>\n",
       "    </tr>\n",
       "    <tr>\n",
       "      <th>100</th>\n",
       "      <td>8</td>\n",
       "      <td>4</td>\n",
       "    </tr>\n",
       "    <tr>\n",
       "      <th>1000</th>\n",
       "      <td>27</td>\n",
       "      <td>9</td>\n",
       "    </tr>\n",
       "    <tr>\n",
       "      <th>10000</th>\n",
       "      <td>64</td>\n",
       "      <td>16</td>\n",
       "    </tr>\n",
       "  </tbody>\n",
       "</table>\n",
       "</div>"
      ],
      "text/plain": [
       "DB    sql    \n",
       "size    0 11M\n",
       "1       0   0\n",
       "10      1   1\n",
       "100     8   4\n",
       "1000   27   9\n",
       "10000  64  16"
      ]
     },
     "execution_count": 53,
     "metadata": {},
     "output_type": "execute_result"
    }
   ],
   "source": [
    "import pandas as pd\n",
    "\n",
    "batches = [10 ** i for i in range(5)]\n",
    "stats = pd.DataFrame(index=batches)\n",
    "\n",
    "stats[\"sql\", \"0\"] = [i ** 3 for i in range(len(batches))]\n",
    "stats[\"sql\", \"11M\"] = [i ** 2 for i in range(len(batches))]\n",
    "stats.columns = pd.MultiIndex.from_tuples(stats.columns, names=[\"DB\", \"size\"])\n",
    "stats"
   ]
  },
  {
   "cell_type": "code",
   "execution_count": 83,
   "metadata": {},
   "outputs": [
    {
     "ename": "KeyError",
     "evalue": "'x'",
     "output_type": "error",
     "traceback": [
      "\u001b[0;31m---------------------------------------------------------------------------\u001b[0m",
      "\u001b[0;31mKeyError\u001b[0m                                  Traceback (most recent call last)",
      "Cell \u001b[0;32mIn [83], line 2\u001b[0m\n\u001b[1;32m      1\u001b[0m d \u001b[39m=\u001b[39m {\u001b[39m\"\u001b[39m\u001b[39mazer\u001b[39m\u001b[39m\"\u001b[39m: \u001b[39m1\u001b[39m}\n\u001b[0;32m----> 2\u001b[0m d[\u001b[39m\"\u001b[39;49m\u001b[39mx\u001b[39;49m\u001b[39m\"\u001b[39;49m] \u001b[39mand\u001b[39;00m \u001b[39mTrue\u001b[39;00m\n",
      "\u001b[0;31mKeyError\u001b[0m: 'x'"
     ]
    }
   ],
   "source": [
    "d = {\"azer\": 1}\n",
    "d[\"x\"] and True\n"
   ]
  },
  {
   "cell_type": "code",
   "execution_count": 7,
   "metadata": {},
   "outputs": [
    {
     "data": {
      "text/plain": [
       "[[15854.48, 15859.45, 15849.28, 15856.67, 0.68881],\n",
       " [15851.98, 15855.82, 15844.21, 15845.07, 1.06081],\n",
       " [15845.97, 15853.87, 15844.49, 15848.21, 0.77838],\n",
       " [15849.56, 15852.57, 15845.63, 15848.59, 0.33867],\n",
       " [15847.0, 15854.56, 15844.45, 15847.62, 0.27937],\n",
       " [15847.85, 15853.62, 15841.75, 15841.75, 2.17907],\n",
       " [15840.0, 15842.47, 15833.9, 15834.03, 1.59663],\n",
       " [15834.16, 15845.08, 15834.16, 15836.04, 0.1585],\n",
       " [15836.44, 15839.3, 15835.01, 15836.07, 0.05736],\n",
       " [15838.15, 15841.82, 15834.22, 15841.26, 0.21867]]"
      ]
     },
     "execution_count": 7,
     "metadata": {},
     "output_type": "execute_result"
    }
   ],
   "source": [
    "sample_data = []\n",
    "for row in binance_response.json():\n",
    "    sample_data.append([float(cell) for cell in row[1:6]])\n",
    "sample_data"
   ]
  },
  {
   "cell_type": "code",
   "execution_count": 3,
   "metadata": {},
   "outputs": [
    {
     "data": {
      "image/png": "[encoded data removed]",
      "text/plain": [
       "<Figure size 640x480 with 1 Axes>"
      ]
     },
     "metadata": {},
     "output_type": "display_data"
    }
   ],
   "source": [
    "%matplotlib inline\n",
    "import matplotlib.pyplot as plt\n",
    "import numpy as np\n",
    "\n",
    "plt.plot(range(20));"
   ]
  }
 ],
 "metadata": {
  "kernelspec": {
   "display_name": "Python 3.10.8 64-bit",
   "language": "python",
   "name": "python3"
  },
  "language_info": {
   "codemirror_mode": {
    "name": "ipython",
    "version": 3
   },
   "file_extension": ".py",
   "mimetype": "text/x-python",
   "name": "python",
   "nbconvert_exporter": "python",
   "pygments_lexer": "ipython3",
   "version": "3.10.8"
  },
  "orig_nbformat": 4,
  "vscode": {
   "interpreter": {
    "hash": "aee8b7b246df8f9039afb4144a1f6fd8d2ca17a180786b69acc140d282b71a49"
   }
  }
 },
 "nbformat": 4,
 "nbformat_minor": 2
}
