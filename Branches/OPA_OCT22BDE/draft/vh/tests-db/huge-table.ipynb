{
 "cells": [
  {
   "cell_type": "markdown",
   "metadata": {},
   "source": [
    "# Récupération d'un jeu de données de binance"
   ]
  },
  {
   "cell_type": "code",
   "execution_count": 3,
   "metadata": {},
   "outputs": [],
   "source": [
    "import requests\n",
    "\n",
    "data = {\"symbol\": \"BTCEUR\", \"interval\": \"1s\", \"limit\": 1000}\n",
    "url = 'https://api.binance.com/api/v3/klines'\n",
    "binance_response = requests.get(url, params=data)\n"
   ]
  },
  {
   "cell_type": "markdown",
   "metadata": {},
   "source": [
    "# Préparation d'un dataframe de 256 000 lignes en guise de batch "
   ]
  },
  {
   "cell_type": "code",
   "execution_count": 4,
   "metadata": {},
   "outputs": [],
   "source": [
    "import pandas as pd\n",
    "\n",
    "df = pd.DataFrame(binance_response.json())\n",
    "columns = ['timestamp', 'open', 'close', 'high', 'low', 'quantity']\n",
    "df = df.drop(list(range(6,df.shape[1])), axis=1) \\\n",
    "    .astype(\"float\") \\\n",
    "    .rename(columns={i: c for i, c in enumerate(columns)})\n",
    "\n",
    "df[\"timestamp\"] = df[\"timestamp\"].floordiv(1000).astype(\"int\")\n",
    "\n",
    "for _ in range(0,8):\n",
    "    df2 = df.copy()\n",
    "    df2[\"timestamp\"] = df2[\"timestamp\"].add(df.iloc[0][\"timestamp\"]-df.iloc[-1][\"timestamp\"]-1).astype(\"int\")\n",
    "    df = pd.concat([df2, df])\n"
   ]
  },
  {
   "cell_type": "markdown",
   "metadata": {},
   "source": [
    "# Préparation de la base SQLite via SQLAlchemy et de la table "
   ]
  },
  {
   "cell_type": "code",
   "execution_count": 7,
   "metadata": {},
   "outputs": [],
   "source": [
    "import sqlite3, sqlalchemy\n",
    "from sqlalchemy import Table, Column, Integer, Float, MetaData, create_engine\n",
    "\n",
    "engine = create_engine('sqlite:///huge-table.db', echo=False)\n",
    "meta = MetaData()\n",
    "\n",
    "engine.execute(f\"DROP TABLE IF EXISTS HUGE_TABLE\")\n",
    "symbol = Table(\"HUGE_TABLE\", meta,\n",
    "                Column('symbol_id', Integer, nullable=False),\n",
    "                Column('timestamp', Integer, nullable=False),\n",
    "                Column('open', Float, nullable=False),\n",
    "                Column('close', Float, nullable=False),\n",
    "                Column('high', Float, nullable=False),\n",
    "                Column('low', Float, nullable=False),\n",
    "                Column('quantity', Float, nullable=False),\n",
    "                extend_existing=True\n",
    "            )\n",
    "meta.create_all(engine)\n"
   ]
  },
  {
   "cell_type": "markdown",
   "metadata": {},
   "source": [
    "# Insertion de 350 fois les 256 000 lignes"
   ]
  },
  {
   "cell_type": "code",
   "execution_count": 8,
   "metadata": {},
   "outputs": [],
   "source": [
    "df_sql = df.copy()\n",
    "df_sql[\"symbol_id\"] = 1\n",
    "for _ in range(0,350):\n",
    "    df_sql.to_sql(\"HUGE_TABLE\",con = engine, index=False, if_exists='append')\n",
    "    df_sql[\"timestamp\"] = df_sql[\"timestamp\"].add(df_sql.iloc[0][\"timestamp\"]-df_sql.iloc[-1][\"timestamp\"]-1).astype(\"int\")\n",
    "\n"
   ]
  },
  {
   "cell_type": "markdown",
   "metadata": {},
   "source": [
    "# Exemple de requête"
   ]
  },
  {
   "cell_type": "code",
   "execution_count": 10,
   "metadata": {},
   "outputs": [
    {
     "data": {
      "text/plain": [
       "1000"
      ]
     },
     "execution_count": 10,
     "metadata": {},
     "output_type": "execute_result"
    }
   ],
   "source": [
    "from datetime import datetime, timedelta\n",
    "\n",
    "start = datetime.now()-timedelta(days = 200)\n",
    "end = start + timedelta(seconds = 1000)\n",
    "\n",
    "start = int(start.strftime(\"%s\"))\n",
    "end = int(end.strftime(\"%s\"))\n",
    "\n",
    "conn = engine.connect()\n",
    "cursor = conn.execute(f\"SELECT * FROM HUGE_TABLE WHERE timestamp >= {start:.0f} AND timestamp < {end:.0f}\")\n",
    "\n",
    "result = list(cursor)\n",
    "len(result)\n"
   ]
  }
 ],
 "metadata": {
  "kernelspec": {
   "display_name": "Python 3.10.8 64-bit",
   "language": "python",
   "name": "python3"
  },
  "language_info": {
   "codemirror_mode": {
    "name": "ipython",
    "version": 3
   },
   "file_extension": ".py",
   "mimetype": "text/x-python",
   "name": "python",
   "nbconvert_exporter": "python",
   "pygments_lexer": "ipython3",
   "version": "3.10.8"
  },
  "orig_nbformat": 4,
  "vscode": {
   "interpreter": {
    "hash": "aee8b7b246df8f9039afb4144a1f6fd8d2ca17a180786b69acc140d282b71a49"
   }
  }
 },
 "nbformat": 4,
 "nbformat_minor": 2
}
